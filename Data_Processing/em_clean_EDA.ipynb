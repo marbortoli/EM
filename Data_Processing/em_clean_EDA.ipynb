{
 "cells": [
  {
   "cell_type": "code",
   "execution_count": null,
   "metadata": {},
   "outputs": [],
   "source": [
    "# import libraries\n",
    "\n",
    "import numpy as np\n",
    "import pandas as pd\n",
    "import matplotlib.pyplot as plt\n",
    "import seaborn as sns\n",
    "plt.style.use('bmh')"
   ]
  },
  {
   "cell_type": "code",
   "execution_count": null,
   "metadata": {},
   "outputs": [],
   "source": [
    "# import datetime\n",
    "\n",
    "datetime = pd.read_csv(r'C:\\Users\\Marina\\Desktop\\heat_pump\\01.Trekanten\\02.outputs\\datetime.csv')\n",
    "datetime.head()\n"
   ]
  },
  {
   "cell_type": "code",
   "execution_count": null,
   "metadata": {},
   "outputs": [],
   "source": [
    "# import data\n",
    "\n",
    "data = pd.read_csv(r'C:\\Users\\Marina\\Desktop\\heat_pump\\01.Trekanten\\02.outputs\\trekantenEMA01')\n",
    "data = data.drop(['Unnamed: 0'], axis = 1)\n",
    "data.head()"
   ]
  },
  {
   "cell_type": "code",
   "execution_count": null,
   "metadata": {},
   "outputs": [],
   "source": [
    "data.tail()"
   ]
  },
  {
   "cell_type": "markdown",
   "metadata": {},
   "source": [
    "Extreme data removal - variable superhetat_c2"
   ]
  },
  {
   "cell_type": "code",
   "execution_count": null,
   "metadata": {},
   "outputs": [],
   "source": [
    "data['superheat_c2'][data['superheat_c2'] > 70] = np.nan\n",
    "plt.plot(data['superheat_c2'])"
   ]
  },
  {
   "cell_type": "code",
   "execution_count": null,
   "metadata": {},
   "outputs": [],
   "source": [
    "data.describe()"
   ]
  },
  {
   "cell_type": "markdown",
   "metadata": {},
   "source": [
    "Removal of outliers and replacement with NaN"
   ]
  },
  {
   "cell_type": "code",
   "execution_count": null,
   "metadata": {},
   "outputs": [],
   "source": [
    "data=data.drop(['Time'], axis = 1)"
   ]
  },
  {
   "cell_type": "code",
   "execution_count": null,
   "metadata": {},
   "outputs": [],
   "source": [
    "# exclude outliers\n",
    "def exclude_outliers(series):\n",
    "    ## Calculate the absolute difference of each timepoint from the series mean\n",
    "    absolute_differences_from_mean = np.abs(series - np.mean(series))\n",
    "    \n",
    "   # Calculate a mask for the difference that are > 3 standard deviations from zero\n",
    "    mask = absolute_differences_from_mean > (np.std(series)*3)\n",
    "\n",
    "    ## replace cell value with NaN\n",
    "    series[mask] = np.NaN\n",
    "    return series\n"
   ]
  },
  {
   "cell_type": "code",
   "execution_count": null,
   "metadata": {},
   "outputs": [],
   "source": [
    "data_nan = data.apply(exclude_outliers)\n",
    "\n",
    "data_nan.hist(figsize=(20, 16), bins=50, xlabelsize=8, ylabelsize=8)"
   ]
  },
  {
   "cell_type": "code",
   "execution_count": null,
   "metadata": {},
   "outputs": [],
   "source": [
    "data_nan.head()"
   ]
  },
  {
   "cell_type": "code",
   "execution_count": null,
   "metadata": {},
   "outputs": [],
   "source": [
    "n = data_nan.isna().sum()\n",
    "na = n.describe()\n",
    "na = pd.DataFrame(n)\n",
    "print(n)\n",
    "na.to_csv(r'C:\\Users\\Marina\\Desktop\\heat_pump\\01.Trekanten\\02.outputs\\data_nan.csv', sep=';')"
   ]
  },
  {
   "cell_type": "code",
   "execution_count": null,
   "metadata": {},
   "outputs": [],
   "source": [
    "data_nan.to_csv(r'C:\\Users\\Marina\\Desktop\\heat_pump\\01.Trekanten\\02.outputs\\trekantenEMA01_with_all_nan.csv', sep=';')"
   ]
  },
  {
   "cell_type": "markdown",
   "metadata": {},
   "source": [
    "Filling up NaN with the previous values"
   ]
  },
  {
   "cell_type": "code",
   "execution_count": null,
   "metadata": {},
   "outputs": [],
   "source": [
    "data_ffill = data_nan.fillna(method = 'ffill', inplace=True)\n"
   ]
  },
  {
   "cell_type": "code",
   "execution_count": null,
   "metadata": {},
   "outputs": [],
   "source": [
    "# Replace these values with value from the previous cell \n",
    "data_ffill = data_nan.fillna(method = 'ffill')\n",
    "a = data_ffill.describe()\n",
    "b = pd.DataFrame(a)\n",
    "b.to_csv(r'C:\\Users\\Marina\\Desktop\\heat_pump\\01.Trekanten\\02.outputs\\data_ffill_summary.csv', sep=';')"
   ]
  },
  {
   "cell_type": "code",
   "execution_count": null,
   "metadata": {},
   "outputs": [],
   "source": [
    "data_ffill.hist(figsize=(20, 16), bins=50, xlabelsize=8, ylabelsize=8)"
   ]
  },
  {
   "cell_type": "code",
   "execution_count": null,
   "metadata": {},
   "outputs": [],
   "source": [
    "# save the dataset without outliers\n",
    "\n",
    "data_ffill.to_csv(r'C:\\Users\\Marina\\Desktop\\heat_pump\\01.Trekanten\\02.outputs\\trekantenEMA01_ffill.csv', sep=';')"
   ]
  },
  {
   "cell_type": "code",
   "execution_count": null,
   "metadata": {},
   "outputs": [],
   "source": [
    "data_ffill = pd.read_csv(r'C:\\Users\\Marina\\Desktop\\heat_pump\\01.Trekanten\\02.outputs\\trekantenEMA01_ffill.csv', delimiter=';')"
   ]
  },
  {
   "cell_type": "code",
   "execution_count": null,
   "metadata": {},
   "outputs": [],
   "source": [
    "# heatmap without outliers\n",
    "\n",
    "corr = data_ffill.corr()\n",
    "plt.figure(figsize=(12,10))\n",
    "\n",
    "sns.heatmap(corr, cmap = 'viridis', vmax = 1.0, vmin= -1.0, linewidths=0.1, annot=True, annot_kws={'size':8}, square=True);"
   ]
  },
  {
   "cell_type": "code",
   "execution_count": null,
   "metadata": {},
   "outputs": [],
   "source": [
    "# create function to interpolate and plot\n",
    "#def interpolate_and_plot(series, interpolation):\n",
    "#    # create a boolean mask for missing values\n",
    "#    missing_values = series.isna()\n",
    "\n",
    "#    # interpolate the missing values\n",
    "#    series_interp = series.interpolate(interpolation)\n",
    "\n",
    "#    # plot the results, highlighting the interpolation values\n",
    "#    fig, ax = plt.subplots(figsize=(20,16))\n",
    "#    series_interp.plot(color = 'grey', alpha = 0.3, ax=ax, legend=False);\n",
    "\n",
    "#    # note plot the interpolated values on top in pink\n",
    "#    series_interp[missing_values].plot(ax=ax, color='pink', linewidth = 2, legend=False);\n",
    "\n",
    "## interpolate using the latest non-missing value # interpolation_type = 'zero'\n",
    "#inteprolation_type = 'linear' \n",
    "#data_interp = interpolate_and_plot(data_nan, inteprolation_type)\n"
   ]
  },
  {
   "cell_type": "code",
   "execution_count": null,
   "metadata": {},
   "outputs": [],
   "source": [
    "#import datetime as dt\n",
    "#date = [dt.datetime.strptime(d, '%Y-%m-%d %H:%M').date() for d in data['Time']]"
   ]
  },
  {
   "cell_type": "code",
   "execution_count": null,
   "metadata": {},
   "outputs": [],
   "source": [
    "from matplotlib.ticker import FixedFormatter, FixedLocator\n",
    "\n",
    "# df_temperature\n",
    "\n",
    "fig, ax = plt.subplots(figsize=(20,12))\n",
    "ax.plot(data_plot['DateTime'], data_plot['temperature_cs1_c1'], color = 'aquamarine')\n",
    "ax.plot(data_plot['DateTime'], data_plot['temperature_cs1_c2'], color = 'chartreuse', linestyle = '--', alpha = 0.3)\n",
    "ax.plot(data_plot['DateTime'], data_plot['temperature_HS1_c1'], color = 'goldenrod')\n",
    "ax.plot(data_plot['DateTime'], data_plot['temperature_HS1_c2'], color = 'orange')\n",
    "ax.plot(data_plot['DateTime'], data_plot['temperature_c1.1'], color = 'darkgreen')\n",
    "ax.plot(data_plot['DateTime'], data_plot['temperature_c1.2'], color = 'forestgreen')\n",
    "ax.plot(data_plot['DateTime'], data_plot['temperature_c1.3'], color = 'springgreen', alpha = 0.3)\n",
    "ax.plot(data_plot['DateTime'], data_plot['temperature_c1.4'], color = 'lightgreen', alpha = 0.3)\n",
    "ax.plot(data_plot['DateTime'], data_plot['temperature_c2.1'], color = 'khaki')\n",
    "ax.plot(data_plot['DateTime'], data_plot['temperature_c2.2'], color = 'gold')\n",
    "ax.plot(data_plot['DateTime'], data_plot['temperature_c2.3'], color = 'moccasin')\n",
    "ax.plot(data_plot['DateTime'], data_plot['temperature_c2.4'], color = 'yellow')\n",
    "#ax.plot(nan_all['Time'], nan_all['C1b'], color = 'wheat', linewidth= 0.5, alpha = 0.3) #, linewidth= 0.5)\n",
    "#ax.plot(nan_all['Time'], nan_all['C2a'], color = 'darkolivegreen', linewidth= 0.4, alpha = 0.3) #, linestyle ='--', alpha = 0.3, linewidth= 0.5)\n",
    "#ax.plot(nan_all['Time'], nan_all['C2b'], color = 'olive', linewidth= 0.3, alpha = 0.3) #, alpha = 0.5, linewidth= 0.4)\n",
    "#ax.plot(nan_all['Time'], nan_all['water_flow_c2'], color = 'turquoise', linewidth= 1.3, linestyle = '--') #, linewidth = 0.3, alpha = 0.5)\n",
    "#ax.plot(nan_all['Time'], nan_all['water_flow_c1'], color = 'skyblue', linewidth= 1.2, linestyle = '--') #, linestyle = '--', alpha = 0.4)\n",
    "#ax.plot(nan_all['Time'], nan_all['exp_valve_c1'], color = 'darkgrey', linewidth= 1.1, linestyle = '--')\n",
    "#ax.plot(nan_all['Time'], nan_all['exp_valve_c2'], color = 'lightslategrey', linewidth= 1.4, linestyle = '--') #, linestyle = '--', alpha = 0.3)\n",
    "#ax.plot(nan_all['Time'], nan_all['superheat_c1'], color = 'darksalmon', linestyle = '--')\n",
    "#ax.plot(nan_all['Time'], nan_all['superheat_c2'], color = 'lightpink', linestyle = '--')\n",
    "\n",
    "#x_locator = FixedLocator([50, 140031, 349862, 547220, 658707, 875460])\n",
    "#x_formatter = FixedFormatter(['Jan 2020', 'April 2020', 'Sept 2020', 'Jan 2021', 'April 2021', 'Sept 2021'])\n",
    "#ax.xaxis.set_major_locator(x_locator)\n",
    "#ax.xaxis.set_major_formatter(x_formatter)\n",
    "\n",
    "y_locator = FixedLocator([0, 1])\n",
    "y_formatter = FixedFormatter(['FALSE', 'TRUE'])\n",
    "ax.yaxis.set_major_locator(y_locator)\n",
    "ax.yaxis.set_major_formatter(y_formatter)\n",
    "\n",
    "plt.xlabel('Date')\n",
    "plt.ylabel('Is this a NaN?')\n",
    "plt.title('NaN location')\n",
    "ax.legend(loc = 'center left', bbox_to_anchor=(1, 0.5), labels=['temperature_cs1_c1', 'temperature_cs1_c2', 'temperature_HS1_c1', 'temperature_HS1_c2','temperature_c1.1', 'temperature_c1.2', 'temperature_c1.3', 'temperature_c1.4', 'temperature_c2.1', 'temperature_c2.2', 'temperature_c2.3', 'temperature_c2.4'])#, 'C1a', 'C1b', 'C2a', 'C2b', 'water_flow_circuit 2', 'water_flow_HS1', 'exp_valve_circuit1', 'exp_valve_circuit2', 'superheat_c1', 'superheat_c2' ])\n",
    "\n",
    "plt.show()"
   ]
  },
  {
   "cell_type": "code",
   "execution_count": null,
   "metadata": {},
   "outputs": [],
   "source": [
    "na = data.isna()\n",
    "na = na.drop(['Time'], axis=1)\n",
    "nan_all = pd.DataFrame(na)\n",
    "\n",
    "nan_all.head()\n",
    "\n",
    "from matplotlib.ticker import FixedFormatter, FixedLocator\n",
    "\n",
    "# df_temperature\n",
    "\n",
    "fig, ax = plt.subplots(figsize=(20,12))\n",
    "ax.plot(nan_all['temperature_cs1_c1'], color = 'aquamarine')\n",
    "ax.plot(nan_all['temperature_cs1_c2'], color = 'chartreuse', linestyle = '--', alpha = 0.3)\n",
    "ax.plot(nan_all['temperature_HS1_c1'], color = 'goldenrod')\n",
    "ax.plot(nan_all['temperature_HS1_c2'], color = 'orange')\n",
    "ax.plot(nan_all['temperature_c1.1'], color = 'darkgreen')\n",
    "ax.plot(nan_all['temperature_c1.2'], color = 'forestgreen')\n",
    "ax.plot(nan_all['temperature_c1.3'], color = 'springgreen', alpha = 0.3)\n",
    "ax.plot(nan_all['temperature_c1.4'], color = 'lightgreen', alpha = 0.3)\n",
    "ax.plot(nan_all['temperature_c2.1'], color = 'khaki')\n",
    "ax.plot(nan_all['temperature_c2.2'], color = 'gold')\n",
    "ax.plot(nan_all['temperature_c2.3'], color = 'moccasin')\n",
    "ax.plot(nan_all['temperature_c2.4'], color = 'yellow')\n",
    "#ax.plot(nan_all['C1b'], color = 'wheat', linewidth= 0.5, alpha = 0.3) #, linewidth= 0.5)\n",
    "#ax.plot(nan_all['C2a'], color = 'darkolivegreen', linewidth= 0.4, alpha = 0.3) #, linestyle ='--', alpha = 0.3, linewidth= 0.5)\n",
    "#ax.plot(nan_all['C2b'], color = 'olive', linewidth= 0.3, alpha = 0.3) #, alpha = 0.5, linewidth= 0.4)\n",
    "#ax.plot(nan_all['water_flow_c2'], color = 'turquoise', linewidth= 1.3, linestyle = '--') #, linewidth = 0.3, alpha = 0.5)\n",
    "#ax.plot(nan_all['water_flow_c1'], color = 'skyblue', linewidth= 1.2, linestyle = '--') #, linestyle = '--', alpha = 0.4)\n",
    "#ax.plot(nan_all['exp_valve_c1'], color = 'darkgrey', linewidth= 1.1, linestyle = '--')\n",
    "#ax.plot(nan_all['exp_valve_c2'], color = 'lightslategrey', linewidth= 1.4, linestyle = '--') #, linestyle = '--', alpha = 0.3)\n",
    "#ax.plot(nan_all['superheat_c1'], color = 'darksalmon', linestyle = '--')\n",
    "#ax.plot(nan_all['superheat_c2'], color = 'lightpink', linestyle = '--')\n",
    "\n",
    "#x_locator = FixedLocator([50, 140031, 349862, 547220, 658707, 875460])\n",
    "#x_formatter = FixedFormatter(['Jan 2020', 'April 2020', 'Sept 2020', 'Jan 2021', 'April 2021', 'Sept 2021'])\n",
    "#ax.xaxis.set_major_locator(x_locator)\n",
    "#ax.xaxis.set_major_formatter(x_formatter)\n",
    "\n",
    "y_locator = FixedLocator([0, 1])\n",
    "y_formatter = FixedFormatter(['FALSE', 'TRUE'])\n",
    "ax.yaxis.set_major_locator(y_locator)\n",
    "ax.yaxis.set_major_formatter(y_formatter)\n",
    "\n",
    "plt.xlabel('Date')\n",
    "plt.ylabel('Is this a NaN?')\n",
    "plt.title('NaN location')\n",
    "ax.legend(loc = 'center left', bbox_to_anchor=(1, 0.5), labels=['temperature_cs1_c1', 'temperature_cs1_c2', 'temperature_HS1_c1', 'temperature_HS1_c2','temperature_c1.1', 'temperature_c1.2', 'temperature_c1.3', 'temperature_c1.4', 'temperature_c2.1', 'temperature_c2.2', 'temperature_c2.3', 'temperature_c2.4'])#, 'C1a', 'C1b', 'C2a', 'C2b', 'water_flow_circuit 2', 'water_flow_HS1', 'exp_valve_circuit1', 'exp_valve_circuit2', 'superheat_c1', 'superheat_c2' ])\n",
    "\n",
    "plt.show()"
   ]
  },
  {
   "cell_type": "code",
   "execution_count": null,
   "metadata": {},
   "outputs": [],
   "source": [
    "# test with dataset\n",
    "data_new1 = data_ffill\n",
    "\n",
    "from matplotlib.ticker import FixedFormatter, FixedLocator\n",
    "\n",
    "fig, ax = plt.subplots(figsize=(20,12))\n",
    "ax.plot(data_new1['superheat_c1'], color = 'darksalmon', linestyle = '--')\n",
    "ax.plot(data_new1['superheat_c2'], color = 'lightpink',  alpha=0.3)\n",
    "\n",
    "#x_locator = FixedLocator([50, 140031, 349862, 547220, 658707, 875460])\n",
    "#x_formatter = FixedFormatter(['Jan 2020', 'April 2020', 'Sept 2020', 'Jan 2021', 'April 2021', 'Sept 2021'])\n",
    "x_locator = FixedLocator([50, 140031, 349862, 547220, 699707, 875460])\n",
    "x_formatter = FixedFormatter(['Jan 2020', 'April 2020', 'Sept 2020', 'Jan 2021', 'April 2021', 'Sept 2021'])\n",
    "\n",
    "ax.xaxis.set_major_locator(x_locator)\n",
    "ax.xaxis.set_major_formatter(x_formatter)\n",
    "\n",
    "#plt.ylim(-7,100)\n",
    "plt.xlabel('Date')\n",
    "plt.ylabel('K')\n",
    "plt.title('Superheat after outliers removal')\n",
    "ax.legend(loc = 'best', labels=['superheat_c1', 'superheat_c2'])\n",
    "\n",
    "plt.show()"
   ]
  },
  {
   "cell_type": "code",
   "execution_count": null,
   "metadata": {},
   "outputs": [],
   "source": [
    "# silly test with dataset\n",
    "data_new = data_ffill\n",
    "#from matplotlib.ticker import FixedFormatter, FixedLocator\n",
    "\n",
    "fig, ax = plt.subplots(figsize=(20,12))\n",
    "ax.plot(datetime['Time'], data_new['temperature_cs1_c1'], color = 'aquamarine')\n",
    "ax.plot(datetime['Time'], data_new['temperature_cs1_c2'], color = 'chartreuse')\n",
    "ax.plot(datetime['Time'], data_new['temperature_HS1_c1'], color = 'goldenrod')\n",
    "ax.plot(datetime['Time'], data_new['temperature_HS1_c2'], color = 'orange')\n",
    "#ax.plot(datetime['Time'], data_new['temperature_c1.1'], color = 'darkgreen')\n",
    "#ax.plot(datetime['Time'], data_new['temperature_c1.2'], color = 'forestgreen')\n",
    "#ax.plot(datetime['Time'], data_new['temperature_c1.3'], color = 'springgreen')\n",
    "#ax.plot(datetime['Time'], data_new['temperature_c1.4'], color = 'lightgreen')\n",
    "#ax.plot(datetime['Time'], data_new['temperature_c2.1'], color = 'khaki')\n",
    "#ax.plot(datetime['Time'], data_new['temperature_c2.2'], color = 'gold')\n",
    "#ax.plot(datetime['Time'], data_new['temperature_c2.3'], color = 'moccasin')\n",
    "#ax.plot(datetime['Time'], data_new['temperature_c2.4'], color = 'yellow')\n",
    "#ax.plot(data_new['C1a'], color = 'tan', linewidth= 0.6, alpha = 0.3)#, linewidth= 0.5)\n",
    "#ax.plot(data_new['C1b'], color = 'wheat', linewidth= 0.5, alpha = 0.3)#, linewidth= 0.5)\n",
    "#ax.plot(data_new['C2a'], color = 'darkolivegreen', linewidth= 0.4, alpha = 0.3)#, linestyle ='--', alpha = 0.3, linewidth= 0.5)\n",
    "#ax.plot(data_new['C2b'], color = 'olive', linewidth= 0.3, alpha = 0.3)#, alpha = 0.5, linewidth= 0.4)\n",
    "#ax.plot(data_new['water_flow_c2'], color = 'turquoise', linewidth= 1.3, linestyle = '--')#, linewidth = 0.3, alpha = 0.5)\n",
    "#ax.plot(data_new['water_flow_c1'], color = 'skyblue', linewidth= 1.2, linestyle = '--')#, linestyle = '--', alpha = 0.4)\n",
    "#ax.plot(data_new['exp_valve_c1'], color = 'darkgrey', linewidth= 1.1, linestyle = '--')\n",
    "#ax.plot(data_new['exp_valve_c2'], color = 'lightslategrey', linewidth= 1.4, linestyle = '--')#, linestyle = '--', alpha = 0.3)\n",
    "#ax.plot(data_new['superheat_c1'], color = 'darksalmon', linestyle = '--')\n",
    "#ax.plot(data_new['superheat_c2'], color = 'lightpink', linestyle = '--')\n",
    "\n",
    "#x_locator = FixedLocator([50, 140031, 349862, 547220, 658707, 875460])\n",
    "#x_formatter = FixedFormatter(['Jan 2020', 'April 2020', 'Sept 2020', 'Jan 2021', 'April 2021', 'Sept 2021'])\n",
    "#ax.xaxis.set_major_locator(x_locator)\n",
    "#ax.xaxis.set_major_formatter(x_formatter)\n",
    "\n",
    "plt.xlabel('Date')\n",
    "plt.ylabel('all_variables')\n",
    "plt.title('Test look')\n",
    "ax.legend(loc = 'best', labels=['temperature_cs1_c1', 'temperature_cs1_c2', 'temperature_HS1_c1', 'temperature_HS1_c2'])#,'temperature_c1.1', 'temperature_c1.2', 'temperature_c1.3', 'temperature_c1.4', 'temperature_c2.1', 'temperature_c2.2', 'temperature_c2.3', 'temperature_c2.4'])#, 'C1a', 'C1b', 'C2a', 'C2b', 'water_flow_c2', 'water_flow_c1', 'exp_valve_c1', 'exp_valve_c2', 'superheat_c1', 'superheat_c2'])\n",
    "\n",
    "plt.show()"
   ]
  },
  {
   "cell_type": "code",
   "execution_count": null,
   "metadata": {},
   "outputs": [],
   "source": [
    "from matplotlib.ticker import FixedFormatter, FixedLocator\n",
    "\n",
    "fig, ax = plt.subplots(figsize=(20,12))\n",
    "ax.plot(data_new['temperature_c1.2'], color = 'forestgreen')\n",
    "\n",
    "plt.xlabel('Date')\n",
    "plt.ylabel('all_variables')\n",
    "plt.title('Test look')\n",
    "ax.legend(loc = 'best', labels=['temperature_cs1_c1', 'temperature_cs1_c2', 'temperature_HS1_c1', 'temperature_HS1_c2','temperature_c1.1', 'temperature_c1.2', 'temperature_c1.3', 'temperature_c1.4', 'temperature_c2.1', 'temperature_c2.2', 'temperature_c2.3', 'temperature_c2.4', 'C1a', 'C1b', 'C2a', 'C2b', 'water_flow_c2', 'water_flow_c1', 'exp_valve_c1', 'exp_valve_c2', 'superheat_c1', 'superheat_c2'])\n",
    "\n",
    "plt.show()"
   ]
  },
  {
   "cell_type": "code",
   "execution_count": null,
   "metadata": {},
   "outputs": [],
   "source": [
    "data_nan.tail()"
   ]
  },
  {
   "cell_type": "code",
   "execution_count": null,
   "metadata": {},
   "outputs": [],
   "source": [
    "# save the dataset without outliers\n",
    "\n",
    "datetime = pd.read_csv(r'C:\\Users\\Marina\\Desktop\\heat_pump\\01.Trekanten\\02.outputs\\datetime.csv')\n",
    "#df = pd.read_csv(r'C:\\Users\\Marina\\Desktop\\heat_pump\\01.Trekanten\\02.outputs\\trekantenEMA01_outlier_removal.csv', delimiter=';')\n",
    "df_concat = pd.concat([datetime, data_nan], axis=1)\n",
    "\n",
    "# save dataset without outlier with dataset\n",
    "df_concat.to_csv(r'C:\\Users\\Marina\\Desktop\\heat_pump\\01.Trekanten\\02.outputs\\trekantenEMA01_outlier_removal.csv', sep=';')\n",
    "\n",
    "#data_nan.to_csv(r'C:\\Users\\Marina\\Desktop\\heat_pump\\01.Trekanten\\02.outputs\\trekantenEMA01_outlier_removal.csv', sep=';')"
   ]
  },
  {
   "cell_type": "code",
   "execution_count": null,
   "metadata": {},
   "outputs": [],
   "source": [
    "df_concat.tail()\n"
   ]
  }
 ],
 "metadata": {
  "interpreter": {
   "hash": "2a55147b442b14ffff5f992cba4f3026fef2dd9023b60840529c89d256e03d4c"
  },
  "kernelspec": {
   "display_name": "Python 3.8.10 64-bit ('newenv': conda)",
   "name": "python3"
  },
  "language_info": {
   "codemirror_mode": {
    "name": "ipython",
    "version": 3
   },
   "file_extension": ".py",
   "mimetype": "text/x-python",
   "name": "python",
   "nbconvert_exporter": "python",
   "pygments_lexer": "ipython3",
   "version": "3.8.10"
  },
  "orig_nbformat": 4
 },
 "nbformat": 4,
 "nbformat_minor": 2
}
